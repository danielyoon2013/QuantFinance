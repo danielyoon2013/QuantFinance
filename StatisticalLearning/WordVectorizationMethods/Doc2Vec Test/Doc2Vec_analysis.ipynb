{
 "cells": [
  {
   "cell_type": "code",
   "execution_count": 12,
   "metadata": {},
   "outputs": [],
   "source": [
    "import pandas as pd\n",
    "import numpy as np\n",
    "import matplotlib.pyplot as plt"
   ]
  },
  {
   "cell_type": "code",
   "execution_count": 17,
   "metadata": {},
   "outputs": [],
   "source": [
    "doc2vec_simple = {\n",
    "    'GaussianNB Accuracy': 0.6194995685936152,\n",
    "    'GaussianNB AUC': 0.5553198704905236,\n",
    "    'GaussianNB MCC': 0.09494003686936145,\n",
    "    'LogisticReg Accuracy': 0.631578947368421,\n",
    "    'LogisticReg AUC': 0.5688019093689612,\n",
    "    'LogisticReg MCC': 0.0,\n",
    "    'SVC Accuracy': 0.636755823986195,\n",
    "    'SVC MCC': 0.08035434036903079,\n",
    "    'RandomForest Accuracy': 0.6479723899913719,\n",
    "    'RandomForest AUC': 0.5800076144405626,\n",
    "    'RandomForest MCC': 0.15201038331575403,\n",
    "}\n",
    "origin = pd.Series(doc2vec_simple)"
   ]
  },
  {
   "cell_type": "code",
   "execution_count": 18,
   "metadata": {},
   "outputs": [],
   "source": [
    "doc2vec_pretrained1={'GaussianNB Accuracy': 0.6143226919758412,\n",
    "'GaussianNB AUC': 0.6371143189874713,\n",
    "'GaussianNB MCC': 0.16119701648974347,\n",
    "'LogisticReg Accuracy': 0.723037100949094,\n",
    "'LogisticReg AUC': 0.7815295427496449,\n",
    "'LogisticReg MCC': 0.3805069029872581,\n",
    "'SVC Accuracy': 0.7506471095772217,\n",
    "'SVC MCC': 0.4429769610930179,\n",
    "'RandomForest Accuracy': 0.7049180327868853,\n",
    "'RandomForest AUC': 0.7333442111055656,\n",
    "'RandomForest MCC': 0.32589245265515426}\n",
    "ap_news = pd.Series(doc2vec_pretrained1)"
   ]
  },
  {
   "cell_type": "code",
   "execution_count": 19,
   "metadata": {},
   "outputs": [],
   "source": [
    "doc2vec_pretrained2 = {'GaussianNB Accuracy': 0.6117342536669542,\n",
    "'GaussianNB AUC': 0.6083618075018237,\n",
    "'GaussianNB MCC': 0.15596384714846048,\n",
    "'LogisticReg Accuracy': 0.7092320966350302,\n",
    "'LogisticReg AUC': 0.7492769480810331,\n",
    "'LogisticReg MCC': 0.3419930631762778,\n",
    "'SVC Accuracy': 0.7411561691113029,\n",
    "'SVC MCC': 0.4191902228059306,\n",
    "'RandomForest Accuracy': 0.6893874029335634,\n",
    "'RandomForest AUC': 0.7022833723653396,\n",
    "'RandomForest MCC': 0.28240964305830274,}\n",
    "wiki= pd.Series(doc2vec_pretrained2)"
   ]
  },
  {
   "cell_type": "code",
   "execution_count": 22,
   "metadata": {},
   "outputs": [
    {
     "data": {
      "text/html": [
       "<div>\n",
       "<style scoped>\n",
       "    .dataframe tbody tr th:only-of-type {\n",
       "        vertical-align: middle;\n",
       "    }\n",
       "\n",
       "    .dataframe tbody tr th {\n",
       "        vertical-align: top;\n",
       "    }\n",
       "\n",
       "    .dataframe thead th {\n",
       "        text-align: right;\n",
       "    }\n",
       "</style>\n",
       "<table border=\"1\" class=\"dataframe\">\n",
       "  <thead>\n",
       "    <tr style=\"text-align: right;\">\n",
       "      <th></th>\n",
       "      <th>self</th>\n",
       "      <th>apnew pretrain</th>\n",
       "      <th>wiki pretrain</th>\n",
       "    </tr>\n",
       "  </thead>\n",
       "  <tbody>\n",
       "    <tr>\n",
       "      <th>GaussianNB Accuracy</th>\n",
       "      <td>0.619500</td>\n",
       "      <td>0.614323</td>\n",
       "      <td>0.611734</td>\n",
       "    </tr>\n",
       "    <tr>\n",
       "      <th>GaussianNB AUC</th>\n",
       "      <td>0.555320</td>\n",
       "      <td>0.637114</td>\n",
       "      <td>0.608362</td>\n",
       "    </tr>\n",
       "    <tr>\n",
       "      <th>GaussianNB MCC</th>\n",
       "      <td>0.094940</td>\n",
       "      <td>0.161197</td>\n",
       "      <td>0.155964</td>\n",
       "    </tr>\n",
       "    <tr>\n",
       "      <th>LogisticReg Accuracy</th>\n",
       "      <td>0.631579</td>\n",
       "      <td>0.723037</td>\n",
       "      <td>0.709232</td>\n",
       "    </tr>\n",
       "    <tr>\n",
       "      <th>LogisticReg AUC</th>\n",
       "      <td>0.568802</td>\n",
       "      <td>0.781530</td>\n",
       "      <td>0.749277</td>\n",
       "    </tr>\n",
       "    <tr>\n",
       "      <th>LogisticReg MCC</th>\n",
       "      <td>0.000000</td>\n",
       "      <td>0.380507</td>\n",
       "      <td>0.341993</td>\n",
       "    </tr>\n",
       "    <tr>\n",
       "      <th>SVC Accuracy</th>\n",
       "      <td>0.636756</td>\n",
       "      <td>0.750647</td>\n",
       "      <td>0.741156</td>\n",
       "    </tr>\n",
       "    <tr>\n",
       "      <th>SVC MCC</th>\n",
       "      <td>0.080354</td>\n",
       "      <td>0.442977</td>\n",
       "      <td>0.419190</td>\n",
       "    </tr>\n",
       "    <tr>\n",
       "      <th>RandomForest Accuracy</th>\n",
       "      <td>0.647972</td>\n",
       "      <td>0.704918</td>\n",
       "      <td>0.689387</td>\n",
       "    </tr>\n",
       "    <tr>\n",
       "      <th>RandomForest AUC</th>\n",
       "      <td>0.580008</td>\n",
       "      <td>0.733344</td>\n",
       "      <td>0.702283</td>\n",
       "    </tr>\n",
       "    <tr>\n",
       "      <th>RandomForest MCC</th>\n",
       "      <td>0.152010</td>\n",
       "      <td>0.325892</td>\n",
       "      <td>0.282410</td>\n",
       "    </tr>\n",
       "  </tbody>\n",
       "</table>\n",
       "</div>"
      ],
      "text/plain": [
       "                           self  apnew pretrain  wiki pretrain\n",
       "GaussianNB Accuracy    0.619500        0.614323       0.611734\n",
       "GaussianNB AUC         0.555320        0.637114       0.608362\n",
       "GaussianNB MCC         0.094940        0.161197       0.155964\n",
       "LogisticReg Accuracy   0.631579        0.723037       0.709232\n",
       "LogisticReg AUC        0.568802        0.781530       0.749277\n",
       "LogisticReg MCC        0.000000        0.380507       0.341993\n",
       "SVC Accuracy           0.636756        0.750647       0.741156\n",
       "SVC MCC                0.080354        0.442977       0.419190\n",
       "RandomForest Accuracy  0.647972        0.704918       0.689387\n",
       "RandomForest AUC       0.580008        0.733344       0.702283\n",
       "RandomForest MCC       0.152010        0.325892       0.282410"
      ]
     },
     "execution_count": 22,
     "metadata": {},
     "output_type": "execute_result"
    }
   ],
   "source": [
    "all_info = pd.concat([origin, ap_news, wiki],axis=1)\n",
    "all_info.columns =['self', 'apnew pretrain', 'wiki pretrain']\n",
    "all_info"
   ]
  },
  {
   "cell_type": "code",
   "execution_count": 23,
   "metadata": {},
   "outputs": [
    {
     "data": {
      "text/plain": [
       "[True, False, False, True, False, False, True, False, True, False, False]"
      ]
     },
     "execution_count": 23,
     "metadata": {},
     "output_type": "execute_result"
    }
   ],
   "source": [
    "acc_label = ['Accuracy' in x for x in all_info.index]\n",
    "acc_label"
   ]
  },
  {
   "cell_type": "code",
   "execution_count": 24,
   "metadata": {},
   "outputs": [],
   "source": [
    "accuracy =all_info[acc_label]"
   ]
  },
  {
   "cell_type": "code",
   "execution_count": 46,
   "metadata": {},
   "outputs": [],
   "source": [
    "accuracy = accuracy.T"
   ]
  },
  {
   "cell_type": "code",
   "execution_count": 47,
   "metadata": {},
   "outputs": [
    {
     "data": {
      "image/png": "[encoded data removed]",
      "text/plain": [
       "<Figure size 432x288 with 1 Axes>"
      ]
     },
     "metadata": {
      "needs_background": "light"
     },
     "output_type": "display_data"
    }
   ],
   "source": [
    "plt.figure()\n",
    "for i in list(accuracy.columns):\n",
    "    plt.plot(accuracy[i], label = i.split(' ')[0])\n",
    "plt.legend()\n",
    "plt.title('Accuracy with different Doc2Vec Models')\n",
    "plt.show()"
   ]
  },
  {
   "cell_type": "code",
   "execution_count": null,
   "metadata": {},
   "outputs": [],
   "source": []
  }
 ],
 "metadata": {
  "kernelspec": {
   "display_name": "Python 3",
   "language": "python",
   "name": "python3"
  },
  "language_info": {
   "codemirror_mode": {
    "name": "ipython",
    "version": 3
   },
   "file_extension": ".py",
   "mimetype": "text/x-python",
   "name": "python",
   "nbconvert_exporter": "python",
   "pygments_lexer": "ipython3",
   "version": "3.7.8"
  }
 },
 "nbformat": 4,
 "nbformat_minor": 4
}
