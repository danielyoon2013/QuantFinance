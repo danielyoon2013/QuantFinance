{
 "cells": [
  {
   "cell_type": "code",
   "execution_count": 12,
   "metadata": {},
   "outputs": [],
   "source": [
    "import pandas as pd\n",
    "\n",
    "excluded = pd.read_csv(\"stopword_excluded.csv\")\n",
    "included = pd.read_csv(\"stopword_included.csv\")"
   ]
  },
  {
   "cell_type": "code",
   "execution_count": 25,
   "metadata": {},
   "outputs": [
    {
     "data": {
      "text/html": [
       "<div>\n",
       "<style scoped>\n",
       "    .dataframe tbody tr th:only-of-type {\n",
       "        vertical-align: middle;\n",
       "    }\n",
       "\n",
       "    .dataframe tbody tr th {\n",
       "        vertical-align: top;\n",
       "    }\n",
       "\n",
       "    .dataframe thead th {\n",
       "        text-align: right;\n",
       "    }\n",
       "</style>\n",
       "<table border=\"1\" class=\"dataframe\">\n",
       "  <thead>\n",
       "    <tr style=\"text-align: right;\">\n",
       "      <th></th>\n",
       "      <th>Model</th>\n",
       "      <th>AUC</th>\n",
       "      <th>Misclassification</th>\n",
       "      <th>MCC</th>\n",
       "    </tr>\n",
       "  </thead>\n",
       "  <tbody>\n",
       "    <tr>\n",
       "      <th>0</th>\n",
       "      <td>MultinomialNB</td>\n",
       "      <td>0.847428</td>\n",
       "      <td>0.785160</td>\n",
       "      <td>0.538125</td>\n",
       "    </tr>\n",
       "    <tr>\n",
       "      <th>1</th>\n",
       "      <td>LogisticReg</td>\n",
       "      <td>0.865330</td>\n",
       "      <td>0.801553</td>\n",
       "      <td>0.565943</td>\n",
       "    </tr>\n",
       "    <tr>\n",
       "      <th>2</th>\n",
       "      <td>SVC</td>\n",
       "      <td>0.865330</td>\n",
       "      <td>0.781708</td>\n",
       "      <td>0.516829</td>\n",
       "    </tr>\n",
       "    <tr>\n",
       "      <th>3</th>\n",
       "      <td>RandomForest</td>\n",
       "      <td>0.850583</td>\n",
       "      <td>0.793788</td>\n",
       "      <td>0.561801</td>\n",
       "    </tr>\n",
       "  </tbody>\n",
       "</table>\n",
       "</div>"
      ],
      "text/plain": [
       "           Model       AUC  Misclassification       MCC\n",
       "0  MultinomialNB  0.847428           0.785160  0.538125\n",
       "1    LogisticReg  0.865330           0.801553  0.565943\n",
       "2            SVC  0.865330           0.781708  0.516829\n",
       "3   RandomForest  0.850583           0.793788  0.561801"
      ]
     },
     "execution_count": 25,
     "metadata": {},
     "output_type": "execute_result"
    }
   ],
   "source": [
    "excluded = excluded.rename(columns={\"Unnamed: 0\":\"Model\"})\n",
    "excluded.iloc[:,:-1]"
   ]
  },
  {
   "cell_type": "code",
   "execution_count": 24,
   "metadata": {},
   "outputs": [
    {
     "data": {
      "text/html": [
       "<div>\n",
       "<style scoped>\n",
       "    .dataframe tbody tr th:only-of-type {\n",
       "        vertical-align: middle;\n",
       "    }\n",
       "\n",
       "    .dataframe tbody tr th {\n",
       "        vertical-align: top;\n",
       "    }\n",
       "\n",
       "    .dataframe thead th {\n",
       "        text-align: right;\n",
       "    }\n",
       "</style>\n",
       "<table border=\"1\" class=\"dataframe\">\n",
       "  <thead>\n",
       "    <tr style=\"text-align: right;\">\n",
       "      <th></th>\n",
       "      <th>Model</th>\n",
       "      <th>AUC</th>\n",
       "      <th>Misclassification</th>\n",
       "      <th>MCC</th>\n",
       "    </tr>\n",
       "  </thead>\n",
       "  <tbody>\n",
       "    <tr>\n",
       "      <th>0</th>\n",
       "      <td>MultinomialNB</td>\n",
       "      <td>0.857824</td>\n",
       "      <td>0.789474</td>\n",
       "      <td>0.551362</td>\n",
       "    </tr>\n",
       "    <tr>\n",
       "      <th>1</th>\n",
       "      <td>LogisticReg</td>\n",
       "      <td>0.866821</td>\n",
       "      <td>0.802416</td>\n",
       "      <td>0.568476</td>\n",
       "    </tr>\n",
       "    <tr>\n",
       "      <th>2</th>\n",
       "      <td>SVC</td>\n",
       "      <td>0.866821</td>\n",
       "      <td>0.784297</td>\n",
       "      <td>0.522462</td>\n",
       "    </tr>\n",
       "    <tr>\n",
       "      <th>3</th>\n",
       "      <td>RandomForest</td>\n",
       "      <td>0.862513</td>\n",
       "      <td>0.803279</td>\n",
       "      <td>0.573184</td>\n",
       "    </tr>\n",
       "  </tbody>\n",
       "</table>\n",
       "</div>"
      ],
      "text/plain": [
       "           Model       AUC  Misclassification       MCC\n",
       "0  MultinomialNB  0.857824           0.789474  0.551362\n",
       "1    LogisticReg  0.866821           0.802416  0.568476\n",
       "2            SVC  0.866821           0.784297  0.522462\n",
       "3   RandomForest  0.862513           0.803279  0.573184"
      ]
     },
     "execution_count": 24,
     "metadata": {},
     "output_type": "execute_result"
    }
   ],
   "source": [
    "included = included.rename(columns={\"Unnamed: 0\":\"Model\"})\n",
    "included.iloc[:,:-1]"
   ]
  },
  {
   "cell_type": "markdown",
   "metadata": {},
   "source": [
    "(1) Stopwords Definition : <br>\n",
    "- The words that are commonly used in a language that it provides relatively information when conducting natural language processing.\n",
    "- Examples)\n",
    "    - Prepositions : in, under, towards, before\n",
    "    - Conjunctions : for, an, nor, but, or, yet, so\n",
    "    - Determiners  : the, a, an, another\n",
    "\n",
    "(2) Paper statement vs Findings<br>\n",
    "- The paper states that removal of stopwords \"significantly\" decreases the accuracy of classification.\n",
    "    - Stopwords such as “up”, “down”, “below” or “above” could be useful analyzing financial context\n",
    "- Our findings show that though including stopwords increases classification accurcay, its impact is \"marginal\"\n",
    "    - Reason : the impact of impactful stopwords such as “up” or “down” might have been diluted as we include bag of all stopwords.\n",
    "    - On the other hand, it is not easy to discern which stopword has most impact in increasing classification accurcay."
   ]
  }
 ],
 "metadata": {
  "kernelspec": {
   "display_name": "Python 3",
   "language": "python",
   "name": "python3"
  },
  "language_info": {
   "codemirror_mode": {
    "name": "ipython",
    "version": 3
   },
   "file_extension": ".py",
   "mimetype": "text/x-python",
   "name": "python",
   "nbconvert_exporter": "python",
   "pygments_lexer": "ipython3",
   "version": "3.7.3"
  }
 },
 "nbformat": 4,
 "nbformat_minor": 4
}
