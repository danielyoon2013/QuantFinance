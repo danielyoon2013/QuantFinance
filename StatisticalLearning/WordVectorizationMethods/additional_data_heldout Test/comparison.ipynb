{
 "cells": [
  {
   "cell_type": "code",
   "execution_count": 18,
   "metadata": {},
   "outputs": [],
   "source": [
    "import seaborn as sns\n",
    "import pandas as pd\n",
    "import matplotlib.pyplot as plt"
   ]
  },
  {
   "cell_type": "code",
   "execution_count": 15,
   "metadata": {},
   "outputs": [],
   "source": [
    "df1 = pd.read_csv(\"original_data_results.csv\")\n",
    "df1.columns = [\"Models\", \"Misclassification\",\"MCC\",\"dataType\"]\n",
    "df2 = pd.read_csv(\"additional_data_results.csv\")\n",
    "df2.columns = [\"Models\", \"Misclassification\",\"MCC\",\"dataType\"]"
   ]
  },
  {
   "cell_type": "code",
   "execution_count": 16,
   "metadata": {},
   "outputs": [
    {
     "data": {
      "text/html": [
       "<div>\n",
       "<style scoped>\n",
       "    .dataframe tbody tr th:only-of-type {\n",
       "        vertical-align: middle;\n",
       "    }\n",
       "\n",
       "    .dataframe tbody tr th {\n",
       "        vertical-align: top;\n",
       "    }\n",
       "\n",
       "    .dataframe thead th {\n",
       "        text-align: right;\n",
       "    }\n",
       "</style>\n",
       "<table border=\"1\" class=\"dataframe\">\n",
       "  <thead>\n",
       "    <tr style=\"text-align: right;\">\n",
       "      <th></th>\n",
       "      <th>Models</th>\n",
       "      <th>Misclassification</th>\n",
       "      <th>MCC</th>\n",
       "      <th>dataType</th>\n",
       "    </tr>\n",
       "  </thead>\n",
       "  <tbody>\n",
       "    <tr>\n",
       "      <th>0</th>\n",
       "      <td>MultinomialNB</td>\n",
       "      <td>0.791199</td>\n",
       "      <td>0.550465</td>\n",
       "      <td>original</td>\n",
       "    </tr>\n",
       "    <tr>\n",
       "      <th>1</th>\n",
       "      <td>LogisticReg</td>\n",
       "      <td>0.800690</td>\n",
       "      <td>0.564680</td>\n",
       "      <td>original</td>\n",
       "    </tr>\n",
       "    <tr>\n",
       "      <th>2</th>\n",
       "      <td>SVC</td>\n",
       "      <td>0.783434</td>\n",
       "      <td>0.520427</td>\n",
       "      <td>original</td>\n",
       "    </tr>\n",
       "    <tr>\n",
       "      <th>3</th>\n",
       "      <td>RandomForest</td>\n",
       "      <td>0.792925</td>\n",
       "      <td>0.550321</td>\n",
       "      <td>original</td>\n",
       "    </tr>\n",
       "  </tbody>\n",
       "</table>\n",
       "</div>"
      ],
      "text/plain": [
       "          Models  Misclassification       MCC  dataType\n",
       "0  MultinomialNB           0.791199  0.550465  original\n",
       "1    LogisticReg           0.800690  0.564680  original\n",
       "2            SVC           0.783434  0.520427  original\n",
       "3   RandomForest           0.792925  0.550321  original"
      ]
     },
     "execution_count": 16,
     "metadata": {},
     "output_type": "execute_result"
    }
   ],
   "source": [
    "df1"
   ]
  },
  {
   "cell_type": "code",
   "execution_count": 17,
   "metadata": {},
   "outputs": [
    {
     "data": {
      "text/html": [
       "<div>\n",
       "<style scoped>\n",
       "    .dataframe tbody tr th:only-of-type {\n",
       "        vertical-align: middle;\n",
       "    }\n",
       "\n",
       "    .dataframe tbody tr th {\n",
       "        vertical-align: top;\n",
       "    }\n",
       "\n",
       "    .dataframe thead th {\n",
       "        text-align: right;\n",
       "    }\n",
       "</style>\n",
       "<table border=\"1\" class=\"dataframe\">\n",
       "  <thead>\n",
       "    <tr style=\"text-align: right;\">\n",
       "      <th></th>\n",
       "      <th>Models</th>\n",
       "      <th>Misclassification</th>\n",
       "      <th>MCC</th>\n",
       "      <th>dataType</th>\n",
       "    </tr>\n",
       "  </thead>\n",
       "  <tbody>\n",
       "    <tr>\n",
       "      <th>0</th>\n",
       "      <td>MultinomialNB</td>\n",
       "      <td>0.440264</td>\n",
       "      <td>0.163850</td>\n",
       "      <td>additional</td>\n",
       "    </tr>\n",
       "    <tr>\n",
       "      <th>1</th>\n",
       "      <td>LogisticReg</td>\n",
       "      <td>0.707677</td>\n",
       "      <td>0.266147</td>\n",
       "      <td>additional</td>\n",
       "    </tr>\n",
       "    <tr>\n",
       "      <th>2</th>\n",
       "      <td>SVC</td>\n",
       "      <td>0.702593</td>\n",
       "      <td>0.138038</td>\n",
       "      <td>additional</td>\n",
       "    </tr>\n",
       "    <tr>\n",
       "      <th>3</th>\n",
       "      <td>RandomForest</td>\n",
       "      <td>0.726487</td>\n",
       "      <td>0.270997</td>\n",
       "      <td>additional</td>\n",
       "    </tr>\n",
       "  </tbody>\n",
       "</table>\n",
       "</div>"
      ],
      "text/plain": [
       "          Models  Misclassification       MCC    dataType\n",
       "0  MultinomialNB           0.440264  0.163850  additional\n",
       "1    LogisticReg           0.707677  0.266147  additional\n",
       "2            SVC           0.702593  0.138038  additional\n",
       "3   RandomForest           0.726487  0.270997  additional"
      ]
     },
     "execution_count": 17,
     "metadata": {},
     "output_type": "execute_result"
    }
   ],
   "source": [
    "df2"
   ]
  },
  {
   "cell_type": "code",
   "execution_count": 42,
   "metadata": {},
   "outputs": [
    {
     "data": {
      "image/png": "[encoded data removed]",
      "text/plain": [
       "<Figure size 1080x468 with 2 Axes>"
      ]
     },
     "metadata": {
      "needs_background": "light"
     },
     "output_type": "display_data"
    }
   ],
   "source": [
    "stats = pd.concat([df1.reset_index(), df2.reset_index()], ignore_index=True)\n",
    "fig, axes = plt.subplots(1,2,figsize=(15,6.5))\n",
    "\n",
    "sns.barplot(ax = axes[0], x=\"Models\", y=\"Misclassification\", hue=\"dataType\", data=stats)\n",
    "axes[0].set(title=\"Misclassification rate : original vs additional data\", xlabel=\"Models\")\n",
    "axes[0].legend(loc=\"upper right\")\n",
    "sns.barplot(ax = axes[1], x=\"Models\", y=\"MCC\", hue=\"dataType\", data=stats)\n",
    "axes[1].set(title=\"MCC : original vs additional data\", xlabel=\"Models\")\n",
    "axes[1].legend(loc=\"upper right\")\n",
    "\n",
    "plt.show()"
   ]
  },
  {
   "cell_type": "markdown",
   "metadata": {},
   "source": [
    "- Comparison Process :\n",
    "    - Preprocess :\n",
    "        - use both original data and additional data to form word feature that corresponds to dimensions of countvector()\n",
    "    - Train :\n",
    "        - Train on 80% of original Data\n",
    "    - Test :\n",
    "        - 1) Test accuracy on 20% of original data\n",
    "        - 2) Test accuracy on new additional dataset"
   ]
  },
  {
   "cell_type": "markdown",
   "metadata": {},
   "source": [
    "- Result Analysis :\n",
    "    - Missclassification Rate :\n",
    "        - We can see that misclassification accuracy decreased around 40% for MultinomialNB and around 10% for Logistic Regression, SVC, and Random Forest\n",
    "        - This implies :\n",
    "            - (1) testing accuracy is dependent on training dataset\n",
    "            - (2) human's subjectivity of labeling the training dataset affects the performance\n",
    "    - MCC :\n",
    "        - We can see that performance is much lower in Matthew Correlation Matrix for predicting additional data\n",
    "        - One reason behind could be that we are trying to predict imbalanced dataset after training on balanced dataset. (ASK???)\n",
    "            - Note that MCC formula is ( TP X TN ) - ( FP X FN ) / SQRT( (TP+FP)(TP+FN)(TN+FP)(TN+FN) )\n",
    "            - When comparing the confusion matrixs we can see that its accuracy is very low when true Y = 0..."
   ]
  },
  {
   "cell_type": "code",
   "execution_count": 44,
   "metadata": {},
   "outputs": [
    {
     "data": {
      "text/html": [
       "<img src=\"original_confusion_matrix.png\"/>"
      ],
      "text/plain": [
       "<IPython.core.display.Image object>"
      ]
     },
     "execution_count": 44,
     "metadata": {},
     "output_type": "execute_result"
    }
   ],
   "source": [
    "from IPython.display import Image\n",
    "from IPython.core.display import HTML \n",
    "Image(url= \"original_confusion_matrix.png\")"
   ]
  },
  {
   "cell_type": "code",
   "execution_count": 45,
   "metadata": {},
   "outputs": [
    {
     "data": {
      "text/html": [
       "<img src=\"additional_confusion_matrix.png\"/>"
      ],
      "text/plain": [
       "<IPython.core.display.Image object>"
      ]
     },
     "execution_count": 45,
     "metadata": {},
     "output_type": "execute_result"
    }
   ],
   "source": [
    "Image(url= \"additional_confusion_matrix.png\")"
   ]
  },
  {
   "cell_type": "code",
   "execution_count": null,
   "metadata": {},
   "outputs": [],
   "source": []
  }
 ],
 "metadata": {
  "kernelspec": {
   "display_name": "Python 3",
   "language": "python",
   "name": "python3"
  },
  "language_info": {
   "codemirror_mode": {
    "name": "ipython",
    "version": 3
   },
   "file_extension": ".py",
   "mimetype": "text/x-python",
   "name": "python",
   "nbconvert_exporter": "python",
   "pygments_lexer": "ipython3",
   "version": "3.8.5"
  }
 },
 "nbformat": 4,
 "nbformat_minor": 4
}
